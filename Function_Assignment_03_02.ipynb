{
 "cells": [
  {
   "cell_type": "markdown",
   "id": "9bc8b751-3e26-4c61-8b73-3707a0856c76",
   "metadata": {},
   "source": [
    "## Q1. Which keyword is used to create a function? Create a function to return a list of odd numbers in the  range of 1 to 25. \n"
   ]
  },
  {
   "cell_type": "markdown",
   "id": "ccae0858-bf52-4bd9-a614-7e36bfb308ae",
   "metadata": {},
   "source": [
    "Ans:- def keyword is used to create a function."
   ]
  },
  {
   "cell_type": "code",
   "execution_count": 7,
   "id": "ae7ea7b9-a583-4999-83dc-34a467332e17",
   "metadata": {},
   "outputs": [],
   "source": [
    "def func():\n",
    "    for i in range(1,26):\n",
    "        if i%2!=0:            \n",
    "            c=print(i)\n",
    "    return c"
   ]
  },
  {
   "cell_type": "code",
   "execution_count": 8,
   "id": "e6b45bb2-e03d-4937-b7b5-3700640d500f",
   "metadata": {},
   "outputs": [
    {
     "name": "stdout",
     "output_type": "stream",
     "text": [
      "1\n",
      "3\n",
      "5\n",
      "7\n",
      "9\n",
      "11\n",
      "13\n",
      "15\n",
      "17\n",
      "19\n",
      "21\n",
      "23\n",
      "25\n"
     ]
    }
   ],
   "source": [
    "func()"
   ]
  },
  {
   "cell_type": "markdown",
   "id": "cb84b870-694f-48c0-b4f1-639557cfab6a",
   "metadata": {},
   "source": [
    "## Q2. Why *args and **kwargs is used in some functions? Create a function each for *args and **kwargs to  demonstrate their use. \n"
   ]
  },
  {
   "cell_type": "markdown",
   "id": "299c768b-2725-4545-b647-45cde31ee944",
   "metadata": {},
   "source": [
    "Ans:-We use *args and **kwargs as an argument when we are unsure about the number of arguments to pass in the functions."
   ]
  },
  {
   "cell_type": "code",
   "execution_count": 9,
   "id": "5a6c174a-4787-45f4-b0d9-67f73475499d",
   "metadata": {},
   "outputs": [],
   "source": [
    "def test1(*args):\n",
    "    return args"
   ]
  },
  {
   "cell_type": "code",
   "execution_count": 10,
   "id": "ef30a2e0-9f30-445e-a7b2-61626249f931",
   "metadata": {},
   "outputs": [
    {
     "data": {
      "text/plain": [
       "('chinu', 'miku', [1, 2, 3])"
      ]
     },
     "execution_count": 10,
     "metadata": {},
     "output_type": "execute_result"
    }
   ],
   "source": [
    "test1(\"chinu\",\"miku\",[1,2,3])"
   ]
  },
  {
   "cell_type": "code",
   "execution_count": 11,
   "id": "b3a86f70-db87-4d26-a9d4-3d81da8f45da",
   "metadata": {},
   "outputs": [],
   "source": [
    "def test2(**kwargs):\n",
    "    return kwargs"
   ]
  },
  {
   "cell_type": "code",
   "execution_count": 14,
   "id": "85a31876-a6fb-4726-8f2f-f7e9aff1da76",
   "metadata": {},
   "outputs": [
    {
     "data": {
      "text/plain": [
       "{'a': 'chinu', 'b': 'miku', 'list': [1, 2, 3], 'c': 'mam'}"
      ]
     },
     "execution_count": 14,
     "metadata": {},
     "output_type": "execute_result"
    }
   ],
   "source": [
    "test2(a='chinu',b='miku',list=[1,2,3],c=\"mam\")"
   ]
  },
  {
   "cell_type": "markdown",
   "id": "b0a421d7-aa11-43b1-bc9b-49b73e5137e3",
   "metadata": {},
   "source": [
    "*args passes variable number of non-keyworded arguments and on which operation of the tuple can be performed. **kwargs passes variable number of keyword arguments dictionary to function on which operation of a dictionary can be performed. *args and **kwargs make the function flexible.\n"
   ]
  },
  {
   "cell_type": "markdown",
   "id": "ff8e62f3-5a63-4b6e-98cc-e0fa4982a3c8",
   "metadata": {},
   "source": [
    "## Q3.  What is an iterator in python? Name the method used to initialise the iterator object and the method  used for iteration. Use these methods to print the first five elements of the given list [2, 4, 6, 8, 10, 12, 14, 16,  18, 20]. "
   ]
  },
  {
   "cell_type": "markdown",
   "id": "12e2c258-c604-48fa-8e8d-e34a27cc5dbd",
   "metadata": {},
   "source": [
    " Ans:-An iterator is an object that contains a countable number of values. An iterator is an object that can be iterated upon, meaning that you can traverse through all the values. Technically, in Python, an iterator is an object which implements the iterator protocol, which consist of the methods __iter__(),range() and __next__() ."
   ]
  },
  {
   "cell_type": "code",
   "execution_count": 15,
   "id": "a9f19103-1148-4e09-883f-83de71e28d8f",
   "metadata": {},
   "outputs": [],
   "source": [
    "list=[2, 4, 6, 8, 10, 12, 14, 16, 18, 20]"
   ]
  },
  {
   "cell_type": "code",
   "execution_count": 16,
   "id": "3d55f897-2d98-4f32-be0a-5fa564475481",
   "metadata": {},
   "outputs": [
    {
     "data": {
      "text/plain": [
       "[2, 4, 6, 8, 10, 12, 14, 16, 18, 20]"
      ]
     },
     "execution_count": 16,
     "metadata": {},
     "output_type": "execute_result"
    }
   ],
   "source": [
    "list"
   ]
  },
  {
   "cell_type": "code",
   "execution_count": 18,
   "id": "5475d0b9-f29e-4ea9-8dc2-45de7e60749a",
   "metadata": {},
   "outputs": [
    {
     "name": "stdout",
     "output_type": "stream",
     "text": [
      "4\n",
      "6\n",
      "8\n",
      "10\n",
      "12\n"
     ]
    }
   ],
   "source": [
    "for i in range(1,6):\n",
    "    print(list[i])"
   ]
  },
  {
   "cell_type": "markdown",
   "id": "3464d522-da9f-4b09-834b-575d35989d16",
   "metadata": {},
   "source": [
    "## Q4.  What is a generator function in python? Why yield keyword is used? Give an example of a generator  function. \n"
   ]
  },
  {
   "cell_type": "markdown",
   "id": "b6fb5658-3a0f-48bc-9178-b6cdfb3ba763",
   "metadata": {},
   "source": [
    "Ans:-Python Generator functions allow you to declare a function that behaves likes an iterator, allowing programmers to make an iterator in a fast, easy, and clean way. An iterator is an object that can be iterated or looped upon. It is used to abstract a container of data to make it behave like an iterable object."
   ]
  },
  {
   "cell_type": "markdown",
   "id": "27366d33-de4b-45b9-a94e-97aa8a8ea332",
   "metadata": {},
   "source": [
    "yield keyword is used to create a generator function. A type of function that is memory efficient and can be used like an iterator object. In layman terms, the yield keyword will turn any expression that is given with it into a generator object and return it to the caller."
   ]
  },
  {
   "cell_type": "code",
   "execution_count": 1,
   "id": "f493ed2e-4c22-4e06-8679-4294ae3e56cf",
   "metadata": {},
   "outputs": [],
   "source": [
    "def test_fib(n) :\n",
    "    a,b = 0,1\n",
    "    for i in range(n):\n",
    "        yield a \n",
    "        a,b = b ,a+b "
   ]
  },
  {
   "cell_type": "code",
   "execution_count": 3,
   "id": "08040f15-091c-4296-b4a3-29b508f55b48",
   "metadata": {},
   "outputs": [
    {
     "data": {
      "text/plain": [
       "<generator object test_fib at 0x7f0bbc2630d0>"
      ]
     },
     "execution_count": 3,
     "metadata": {},
     "output_type": "execute_result"
    }
   ],
   "source": [
    "test_fib(10)"
   ]
  },
  {
   "cell_type": "code",
   "execution_count": 4,
   "id": "34500a12-7fcd-435e-8393-aa002d061e4a",
   "metadata": {},
   "outputs": [
    {
     "name": "stdout",
     "output_type": "stream",
     "text": [
      "0\n",
      "1\n",
      "1\n",
      "2\n",
      "3\n",
      "5\n",
      "8\n",
      "13\n",
      "21\n",
      "34\n"
     ]
    }
   ],
   "source": [
    "for i in test_fib(10) : \n",
    "    print(i)"
   ]
  },
  {
   "cell_type": "markdown",
   "id": "f1375d6b-ca89-4523-b1c6-0596b2c03727",
   "metadata": {},
   "source": [
    "## Q5. Create a generator function for prime numbers less than 1000. Use the next() method to print the  first 20 prime numbers. "
   ]
  },
  {
   "cell_type": "code",
   "execution_count": 7,
   "id": "3c478e18-7032-4b7c-a56a-75cb4092a30a",
   "metadata": {},
   "outputs": [
    {
     "ename": "SyntaxError",
     "evalue": "invalid syntax (233621822.py, line 7)",
     "output_type": "error",
     "traceback": [
      "\u001b[0;36m  Cell \u001b[0;32mIn[7], line 7\u001b[0;36m\u001b[0m\n\u001b[0;31m    def primeGenerator(>1000):\u001b[0m\n\u001b[0m                       ^\u001b[0m\n\u001b[0;31mSyntaxError\u001b[0m\u001b[0;31m:\u001b[0m invalid syntax\n"
     ]
    }
   ],
   "source": [
    "def isPrime(num):\n",
    "    for i in range(2,num):\n",
    "        if num%i==0:\n",
    "            return False\n",
    "    return True\n",
    "\n",
    "def primeGenerator(>1000):\n",
    "    num=2\n",
    "    while >1000:\n",
    "        if isPrime(num):\n",
    "            yield num\n",
    "            n-=1\n",
    "        num+=1\n",
    "    return"
   ]
  },
  {
   "cell_type": "code",
   "execution_count": 11,
   "id": "d5196c81-0706-4d71-aa19-5142c34f3a47",
   "metadata": {},
   "outputs": [
    {
     "name": "stdout",
     "output_type": "stream",
     "text": [
      "2\n",
      "3\n",
      "5\n",
      "7\n",
      "11\n",
      "13\n",
      "17\n",
      "19\n",
      "23\n",
      "29\n"
     ]
    }
   ],
   "source": [
    "it = primeGenerator(10)\n",
    "for i in it:\n",
    "    print(i)"
   ]
  },
  {
   "cell_type": "code",
   "execution_count": null,
   "id": "cc21039f-0986-4146-8a35-f7e07eb1661c",
   "metadata": {},
   "outputs": [],
   "source": []
  }
 ],
 "metadata": {
  "kernelspec": {
   "display_name": "Python 3 (ipykernel)",
   "language": "python",
   "name": "python3"
  },
  "language_info": {
   "codemirror_mode": {
    "name": "ipython",
    "version": 3
   },
   "file_extension": ".py",
   "mimetype": "text/x-python",
   "name": "python",
   "nbconvert_exporter": "python",
   "pygments_lexer": "ipython3",
   "version": "3.10.8"
  }
 },
 "nbformat": 4,
 "nbformat_minor": 5
}
